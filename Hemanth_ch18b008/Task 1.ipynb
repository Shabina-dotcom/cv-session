{
 "metadata": {
  "language_info": {
   "codemirror_mode": {
    "name": "ipython",
    "version": 3
   },
   "file_extension": ".py",
   "mimetype": "text/x-python",
   "name": "python",
   "nbconvert_exporter": "python",
   "pygments_lexer": "ipython3",
   "version": "3.8.10"
  },
  "orig_nbformat": 4,
  "kernelspec": {
   "name": "python3",
   "display_name": "Python 3.8.10 64-bit ('base': conda)"
  },
  "interpreter": {
   "hash": "cd8ac7ed5329ff1f59a8356dfddf06d159cf18414acbfd7b13d1d5cd1cbb5d7d"
  }
 },
 "nbformat": 4,
 "nbformat_minor": 2,
 "cells": [
  {
   "cell_type": "code",
   "execution_count": null,
   "metadata": {},
   "outputs": [],
   "source": [
    "import cv2\n",
    "import numpy as np\n",
    "from matplotlib import pyplot as plt\n",
    "\n",
    "#Reading the image\n",
    "img = cv2.imread('media/einstein.jpg')\n",
    "plt.figure(),plt.axis(\"off\"),plt.title(\"Original Image\"),plt.imshow(img)\n",
    "plt.show()"
   ]
  },
  {
   "cell_type": "code",
   "execution_count": null,
   "metadata": {},
   "outputs": [],
   "source": [
    "#Plotting the images\n",
    "blur_gaus1 = cv2.GaussianBlur(img,(5,5),0)\n",
    "#plt.figure(),plt.axis(\"off\"),plt.title(\"Blurred Image1\"),plt.imshow(blur_gaus1)\n",
    "#plt.show()"
   ]
  },
  {
   "cell_type": "code",
   "execution_count": null,
   "metadata": {},
   "outputs": [],
   "source": [
    "blur_gaus2 = cv2.GaussianBlur(img,(9,9),0)\n",
    "#plt.figure(),plt.axis(\"off\"),plt.title(\"Blurred Image2\"),plt.imshow(blur_gaus2)\n",
    "#plt.show()"
   ]
  },
  {
   "cell_type": "code",
   "execution_count": null,
   "metadata": {},
   "outputs": [],
   "source": [
    "egami = blur_gaus1 - blur_gaus2\n",
    "plt.subplot(121),plt.axis(\"off\"),plt.title(\"EDDG1\"),plt.imshow(egami)\n",
    "plt.subplot(122),plt.axis(\"off\"),plt.title(\"EDDG2\"),plt.imshow(-egami)\n",
    "plt.show()"
   ]
  }
 ]
}