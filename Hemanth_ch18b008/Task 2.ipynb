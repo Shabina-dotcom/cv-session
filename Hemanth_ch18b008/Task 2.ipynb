{
 "metadata": {
  "language_info": {
   "codemirror_mode": {
    "name": "ipython",
    "version": 3
   },
   "file_extension": ".py",
   "mimetype": "text/x-python",
   "name": "python",
   "nbconvert_exporter": "python",
   "pygments_lexer": "ipython3",
   "version": "3.8.10"
  },
  "orig_nbformat": 4,
  "kernelspec": {
   "name": "python3",
   "display_name": "Python 3.8.10 64-bit ('base': conda)"
  },
  "interpreter": {
   "hash": "cd8ac7ed5329ff1f59a8356dfddf06d159cf18414acbfd7b13d1d5cd1cbb5d7d"
  }
 },
 "nbformat": 4,
 "nbformat_minor": 2,
 "cells": [
  {
   "cell_type": "code",
   "execution_count": null,
   "metadata": {},
   "outputs": [],
   "source": [
    "import cv2\n",
    "import numpy as np\n",
    "from matplotlib import pyplot as plt\n",
    "\n",
    "\n",
    "video_object = cv2.VideoCapture(\"media/barrel.mp4\")\n",
    "\n",
    "try:\n",
    "    while(True):\n",
    "        ret,frame = video_object.read()\n",
    "        cv2.imshow('barrel.mp4',frame)\n",
    "        if cv2.waitKey(10) & 0xFF == ord('q'):\n",
    "            cv2.imwrite('media/race.png', frame)\n",
    "            break\n",
    "except :\n",
    "    pass\n",
    "\n",
    "video_object.release()\n",
    "cv2.destroyAllWindows()\n",
    "\n",
    "target = cv2.imread('media/race.png')\n",
    "hsvt = cv2.cvtColor(target, cv2.COLOR_BGR2HSV)\n",
    "plt.subplot(121),plt.axis(\"off\"),plt.title(\"race\"),plt.imshow(target)\n",
    "plt.show()\n",
    "obj = cv2.imread('media/barrel.png')\n",
    "hsvo = cv2.cvtColor(obj, cv2.COLOR_BGR2HSV)\n",
    "plt.subplot(122),plt.axis(\"off\"),plt.title(\"barrel\"),plt.imshow(obj)\n",
    "plt.show()"
   ]
  },
  {
   "cell_type": "code",
   "execution_count": null,
   "metadata": {},
   "outputs": [],
   "source": [
    "objhist = cv2.calcHist([hsvo], [0, 1], None, [180, 255], [0, 180, 0, 255])\n",
    "\n",
    "cv2.normalize(objhist, objhist, 0, 255, cv2.NORM_MINMAX)\n",
    "res = cv2.calcBackProject([hsvt], [0, 1], objhist, [0, 180, 0, 255], 1)\n",
    "\n",
    "disc = cv2.getStructuringElement(cv2.MORPH_ELLIPSE, (5, 5))\n",
    "cv2.filter2D(res, -1, disc, res);"
   ]
  },
  {
   "cell_type": "code",
   "execution_count": null,
   "metadata": {},
   "outputs": [],
   "source": [
    "ret,thresh = cv2.threshold(res, 0, 255, cv2.THRESH_BINARY_INV)\n",
    "thresh = cv2.merge((thresh, thresh, thresh))\n",
    "result = cv2.bitwise_or(target, thresh)\n",
    "mix = np.vstack((target,thresh,result))\n",
    "\n",
    "cv2.imwrite('media/result.jpg', result)\n",
    "img = cv2.imread('media/result.jpg')\n",
    "plt.figure(),plt.axis(\"off\"),plt.imshow(img)\n",
    "plt.show()"
   ]
  }
 ]
}