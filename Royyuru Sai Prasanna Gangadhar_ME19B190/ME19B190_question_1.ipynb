{
 "cells": [
  {
   "cell_type": "code",
   "execution_count": 1,
   "id": "656e7d53",
   "metadata": {},
   "outputs": [],
   "source": [
    "import cv2"
   ]
  },
  {
   "cell_type": "code",
   "execution_count": 8,
   "id": "b9d1e046",
   "metadata": {},
   "outputs": [],
   "source": [
    "img = cv2.imread(\"einstein.jpg\",0)\n",
    "blur = cv2.GaussianBlur(img,(5,5),0)\n"
   ]
  },
  {
   "cell_type": "code",
   "execution_count": 9,
   "id": "eeea1e05",
   "metadata": {},
   "outputs": [],
   "source": [
    "cv2.imshow('ei', blur)\n",
    "cv2.waitKey(0)\n",
    "cv2.destroyAllWindows()"
   ]
  },
  {
   "cell_type": "code",
   "execution_count": 10,
   "id": "a781d1ee",
   "metadata": {},
   "outputs": [],
   "source": [
    "img = cv2.imread(\"einstein.jpg\",0)\n",
    "blur1 = cv2.GaussianBlur(img,(9,9),1.8)"
   ]
  },
  {
   "cell_type": "code",
   "execution_count": 11,
   "id": "c9314f78",
   "metadata": {},
   "outputs": [],
   "source": [
    "cv2.imshow('ei2', blur1)\n",
    "cv2.waitKey(0)\n",
    "cv2.destroyAllWindows()"
   ]
  },
  {
   "cell_type": "code",
   "execution_count": 12,
   "id": "ac927faf",
   "metadata": {},
   "outputs": [],
   "source": [
    "edges = cv2.subtract(blur,blur1)\n",
    "edges = cv2.bitwise_not(edges)\n"
   ]
  },
  {
   "cell_type": "code",
   "execution_count": 13,
   "id": "83371841",
   "metadata": {},
   "outputs": [],
   "source": [
    "cv2.imshow('edged image',edges)\n",
    "cv2.waitKey(0)\n",
    "cv2.destroyAllWindows()"
   ]
  },
  {
   "cell_type": "code",
   "execution_count": null,
   "id": "eef31a77",
   "metadata": {},
   "outputs": [],
   "source": []
  }
 ],
 "metadata": {
  "kernelspec": {
   "display_name": "Python 3",
   "language": "python",
   "name": "python3"
  },
  "language_info": {
   "codemirror_mode": {
    "name": "ipython",
    "version": 3
   },
   "file_extension": ".py",
   "mimetype": "text/x-python",
   "name": "python",
   "nbconvert_exporter": "python",
   "pygments_lexer": "ipython3",
   "version": "3.8.8"
  }
 },
 "nbformat": 4,
 "nbformat_minor": 5
}
