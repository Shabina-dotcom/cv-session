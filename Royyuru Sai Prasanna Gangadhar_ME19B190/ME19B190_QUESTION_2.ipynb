{
 "cells": [
  {
   "cell_type": "code",
   "execution_count": 1,
   "id": "33276784",
   "metadata": {},
   "outputs": [],
   "source": [
    "import numpy as np\n",
    "import cv2\n",
    "import matplotlib.pyplot as plt\n",
    "%matplotlib inline"
   ]
  },
  {
   "cell_type": "code",
   "execution_count": 2,
   "id": "c5947998",
   "metadata": {},
   "outputs": [],
   "source": [
    "ori = cv2.imread('capture1.png')\n",
    "roi = cv2.imread('roi.png')\n"
   ]
  },
  {
   "cell_type": "code",
   "execution_count": 3,
   "id": "b45186c5",
   "metadata": {},
   "outputs": [],
   "source": [
    "ori1 = cv2.cvtColor(ori,cv2.COLOR_BGR2HSV)"
   ]
  },
  {
   "cell_type": "code",
   "execution_count": 4,
   "id": "7e082916",
   "metadata": {},
   "outputs": [],
   "source": [
    "roi1 = cv2.cvtColor(roi,cv2.COLOR_BGR2HSV)"
   ]
  },
  {
   "cell_type": "code",
   "execution_count": 5,
   "id": "323387d0",
   "metadata": {},
   "outputs": [],
   "source": [
    "roihist  = cv2.calcHist([roi1],[0,1],None,[180,256],[0,180,0,256])"
   ]
  },
  {
   "cell_type": "code",
   "execution_count": 6,
   "id": "caa86514",
   "metadata": {},
   "outputs": [],
   "source": [
    "mask = cv2.calcBackProject([ori1],[0,1],roihist,[0,180,0,255],1)\n",
    "cv2.imshow(\"mask\",mask)\n",
    "cv2.waitKey(0)\n",
    "cv2.destroyAllWindows()"
   ]
  },
  {
   "cell_type": "code",
   "execution_count": 7,
   "id": "5d298a61",
   "metadata": {},
   "outputs": [],
   "source": [
    "ker = cv2.getStructuringElement(cv2.MORPH_ELLIPSE, (5,5))"
   ]
  },
  {
   "cell_type": "code",
   "execution_count": 8,
   "id": "2e15c786",
   "metadata": {},
   "outputs": [],
   "source": [
    "mask = cv2.filter2D(mask,-1,ker)\n",
    "cv2.imshow(\"mask\",mask)\n",
    "cv2.waitKey(0)\n",
    "cv2.destroyAllWindows()"
   ]
  },
  {
   "cell_type": "code",
   "execution_count": 9,
   "id": "875a0e83",
   "metadata": {},
   "outputs": [],
   "source": [
    "ret,mask = cv2.threshold(mask,20,255,cv2.THRESH_BINARY)\n",
    "cv2.imshow(\"mask\",mask)\n",
    "cv2.waitKey(0)\n",
    "cv2.destroyAllWindows()"
   ]
  },
  {
   "cell_type": "code",
   "execution_count": 10,
   "id": "a0fe555a",
   "metadata": {},
   "outputs": [],
   "source": [
    "mask = cv2.merge((mask,mask,mask))"
   ]
  },
  {
   "cell_type": "code",
   "execution_count": null,
   "id": "a4e963b7",
   "metadata": {},
   "outputs": [],
   "source": [
    "\n",
    "retrive = cv2.bitwise_and(ori,mask)\n",
    "cv2.imshow(\"retrived area\",retrive)\n",
    "cv2.waitKey(0)\n",
    "cv2.destroyAllWindows()"
   ]
  },
  {
   "cell_type": "code",
   "execution_count": null,
   "id": "c7969547",
   "metadata": {},
   "outputs": [],
   "source": []
  }
 ],
 "metadata": {
  "kernelspec": {
   "display_name": "Python 3",
   "language": "python",
   "name": "python3"
  },
  "language_info": {
   "codemirror_mode": {
    "name": "ipython",
    "version": 3
   },
   "file_extension": ".py",
   "mimetype": "text/x-python",
   "name": "python",
   "nbconvert_exporter": "python",
   "pygments_lexer": "ipython3",
   "version": "3.8.8"
  }
 },
 "nbformat": 4,
 "nbformat_minor": 5
}
