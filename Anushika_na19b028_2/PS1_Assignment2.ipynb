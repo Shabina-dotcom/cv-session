{
 "cells": [
  {
   "cell_type": "markdown",
   "id": "virgin-maine",
   "metadata": {},
   "source": [
    "# PS-1"
   ]
  },
  {
   "cell_type": "code",
   "execution_count": null,
   "id": "great-southwest",
   "metadata": {},
   "outputs": [],
   "source": [
    "import cv2\n",
    "from matplotlib import pyplot as plt\n",
    "import numpy as np"
   ]
  },
  {
   "cell_type": "code",
   "execution_count": null,
   "id": "statistical-slope",
   "metadata": {},
   "outputs": [],
   "source": [
    "#read image\n",
    "img =cv2.imread(\"einstein.jpg\")\n"
   ]
  },
  {
   "cell_type": "code",
   "execution_count": null,
   "id": "reflected-cooler",
   "metadata": {},
   "outputs": [],
   "source": [
    "#Apply 5x5 and 9x9 gaussian blur\n",
    "g1 = cv2.GaussianBlur(img,(5,5),0)\n",
    "g2 = cv2.GaussianBlur(img,(9,9),0)"
   ]
  },
  {
   "cell_type": "code",
   "execution_count": null,
   "id": "stock-advocacy",
   "metadata": {},
   "outputs": [],
   "source": [
    "#Calculate DoG by subtracting\n",
    "diff = g1-g2"
   ]
  },
  {
   "cell_type": "code",
   "execution_count": null,
   "id": "blind-corps",
   "metadata": {},
   "outputs": [],
   "source": [
    "#display results\n",
    "plt.figure(),plt.axis(\"off\"),plt.title(\"Original Image\"),plt.imshow(img)\n",
    "plt.figure(),plt.axis(\"off\"),plt.title(\"High_sigma\"),plt.imshow(g2)\n",
    "plt.figure(),plt.axis(\"off\"),plt.title(\"Low_sigma\"),plt.imshow(g1)\n",
    "plt.figure(),plt.axis(\"off\"),plt.title(\"DoG\"),plt.imshow(diff)\n",
    "plt.show()"
   ]
  },
  {
   "cell_type": "code",
   "execution_count": null,
   "id": "closed-practitioner",
   "metadata": {},
   "outputs": [],
   "source": []
  }
 ],
 "metadata": {
  "kernelspec": {
   "display_name": "Python 3",
   "language": "python",
   "name": "python3"
  },
  "language_info": {
   "codemirror_mode": {
    "name": "ipython",
    "version": 3
   },
   "file_extension": ".py",
   "mimetype": "text/x-python",
   "name": "python",
   "nbconvert_exporter": "python",
   "pygments_lexer": "ipython3",
   "version": "3.8.7"
  }
 },
 "nbformat": 4,
 "nbformat_minor": 5
}
