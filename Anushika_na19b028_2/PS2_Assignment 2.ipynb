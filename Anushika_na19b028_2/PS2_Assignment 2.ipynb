{
 "cells": [
  {
   "cell_type": "markdown",
   "id": "median-simpson",
   "metadata": {},
   "source": [
    "# PS 2\n"
   ]
  },
  {
   "cell_type": "code",
   "execution_count": null,
   "id": "automated-sacramento",
   "metadata": {},
   "outputs": [],
   "source": [
    "import numpy as np\n",
    "import cv2\n",
    "from matplotlib import pyplot as plt\n"
   ]
  },
  {
   "cell_type": "code",
   "execution_count": null,
   "id": "efficient-strength",
   "metadata": {},
   "outputs": [],
   "source": [
    "#ref_img is the image of object we need to find\n",
    "ref_img = cv2.imread('imgr.PNG')\n",
    "#converting to HSV from RGB\n",
    "hsvr = cv2.cvtColor(ref_img, cv2.COLOR_BGR2HSV)\n",
    "\n",
    "#finding histogram of ref_img using calcHist and normalizing\n",
    "ref_hist = cv2.calcHist([hsvr], [0, 1], None, [180, 256], [0, 180, 0, 256])\n",
    "cv2.normalize(ref_hist,ref_hist,0,255,cv2.NORM_MINMAX)"
   ]
  },
  {
   "cell_type": "code",
   "execution_count": null,
   "id": "given-gabriel",
   "metadata": {},
   "outputs": [],
   "source": [
    "plt.figure(figsize=(10,10))\n",
    "plt.plot(ref_hist);"
   ]
  },
  {
   "cell_type": "code",
   "execution_count": null,
   "id": "acceptable-spending",
   "metadata": {},
   "outputs": [],
   "source": [
    "def match_barrel(img):\n",
    "    img1= cv2.cvtColor(img, cv2.COLOR_BGR2HSV)\n",
    "    \n",
    "    #apply backprojection\n",
    "    res = cv2.calcBackProject([img1],[0,1],ref_hist,[0,180,0,256],1)\n",
    "    \n",
    "    #apply a convolution with a circular disc\n",
    "    disc = cv2.getStructuringElement(cv2.MORPH_ELLIPSE,(5,5))\n",
    "    cv2.filter2D(res,-1,disc,res)\n",
    "    cv2.normalize(res,res,0,255,cv2.NORM_MINMAX)\n",
    "    \n",
    "    # Use thresholding to segment out the region\n",
    "    ret,thresh = cv2.threshold(res,50,255,0)\n",
    "    \n",
    "    # Overlay images using bitwise_or\n",
    "    thresh = cv2.merge((thresh,thresh,thresh))\n",
    "    res1 = cv2.bitwise_or(img,thresh)\n",
    "    return res1\n",
    "\n",
    "\n"
   ]
  },
  {
   "cell_type": "code",
   "execution_count": null,
   "id": "timely-western",
   "metadata": {},
   "outputs": [],
   "source": [
    "cap = cv2.VideoCapture('video.mp4')\n",
    "while cap.isOpened():\n",
    "    ret, frame = cap.read()\n",
    "    if not ret:\n",
    "        break\n",
    "    result = match_barrel(frame)\n",
    "    cv2.imshow('a1', result)\n",
    "    \n",
    "    if cv2.waitKey(1) & 0xFF== ord('q'):\n",
    "        break\n",
    "cap.release()\n",
    "cv2.destroyAllWindows()"
   ]
  },
  {
   "cell_type": "code",
   "execution_count": null,
   "id": "exposed-stake",
   "metadata": {},
   "outputs": [],
   "source": []
  }
 ],
 "metadata": {
  "kernelspec": {
   "display_name": "Python 3",
   "language": "python",
   "name": "python3"
  },
  "language_info": {
   "codemirror_mode": {
    "name": "ipython",
    "version": 3
   },
   "file_extension": ".py",
   "mimetype": "text/x-python",
   "name": "python",
   "nbconvert_exporter": "python",
   "pygments_lexer": "ipython3",
   "version": "3.8.7"
  }
 },
 "nbformat": 4,
 "nbformat_minor": 5
}
