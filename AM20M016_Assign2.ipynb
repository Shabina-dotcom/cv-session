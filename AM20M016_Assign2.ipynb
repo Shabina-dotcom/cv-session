{
 "cells": [
  {
   "cell_type": "markdown",
   "id": "bcef9b9d",
   "metadata": {},
   "source": [
    "## Task1\n"
   ]
  },
  {
   "cell_type": "code",
   "execution_count": null,
   "id": "b328878e",
   "metadata": {},
   "outputs": [],
   "source": [
    "%matplotlib inline\n",
    "# above line is necessory to show Matplotlib's plots inside a Jupyter Notebook\n",
    "import cv2 as cv\n",
    "from matplotlib import pyplot as plt\n",
    "\n",
    "#Import Image\n",
    "img = cv.imread('einstein.jpg',1)\n",
    "\n",
    "# Show the image with matplotlib\n",
    "plt.imshow(img)\n",
    "plt.show()\n"
   ]
  },
  {
   "cell_type": "code",
   "execution_count": null,
   "id": "dc85f09c",
   "metadata": {},
   "outputs": [],
   "source": [
    "# Gaussian Filter for blurring an image\n",
    "blur_gaus1 = cv.GaussianBlur(img,(5,5),0)\n",
    "blur_gaus2 = cv.GaussianBlur(img,(9,9),0)\n",
    "plt.figure(),plt.axis(\"off\"),plt.title(\"Original Image\"),plt.imshow(img)\n",
    "plt.figure(),plt.axis(\"off\"),plt.title(\"Blurred Image 1\"),plt.imshow(blur_gaus1)\n",
    "plt.figure(),plt.axis(\"off\"),plt.title(\"Blurred Image 2\"),plt.imshow(blur_gaus2)\n",
    "plt.show()"
   ]
  },
  {
   "cell_type": "code",
   "execution_count": null,
   "id": "029aa742",
   "metadata": {},
   "outputs": [],
   "source": [
    "# Gaussian filter for edge detection by creating bandpass filter by taking difference between two filtered image\n",
    "\n",
    "edge_d1=blur_gaus2-blur_gaus1\n",
    "# contrast Edge detection\n",
    "edge_d2=blur_gaus1-blur_gaus2\n",
    "plt.figure(),plt.axis(\"off\"),plt.title(\"Edge Detection\"),plt.imshow(edge_d1)\n",
    "plt.figure(),plt.axis(\"off\"),plt.title(\"Edge Detection contrast\"),plt.imshow(edge_d2)\n",
    "plt.show()"
   ]
  },
  {
   "cell_type": "markdown",
   "id": "b1e262e9",
   "metadata": {},
   "source": [
    "## Task 2\n"
   ]
  },
  {
   "cell_type": "code",
   "execution_count": null,
   "id": "3508d6b4",
   "metadata": {},
   "outputs": [],
   "source": [
    "%matplotlib inline\n",
    "\n",
    "import numpy as np\n",
    "import cv2 as cv\n",
    "from matplotlib import pyplot as plt\n",
    "\n",
    "# Capture video \n",
    "vcap = cv.VideoCapture(r'Assign2.mp4')\n",
    "\n",
    "while True:\n",
    "    # Capture frame-by-frame\n",
    "    ret, frame = vcap.read()\n",
    "    hsvimg = cv.cvtColor(frame, cv.COLOR_BGR2HSV)\n",
    "    # hist = cv.calcHist([hsvimg], [0, 1], None, [180, 256], [0, 180, 0, 256])\n",
    "    # cv.normalize(hist, hist, alpha=0, beta=255, norm_type=cv.NORM_MINMAX)\n",
    "    plt.imshow(hsvimg)\n",
    "    plt.show()\n",
    "  \n",
    "   \n",
    "# When everything done, release the capture\n",
    "vcap.release()\n",
    "cv.destroyAllWindows()"
   ]
  },
  {
   "cell_type": "code",
   "execution_count": null,
   "id": "8b52588c",
   "metadata": {},
   "outputs": [],
   "source": []
  },
  {
   "cell_type": "code",
   "execution_count": null,
   "id": "1cbe24b8",
   "metadata": {},
   "outputs": [],
   "source": []
  }
 ],
 "metadata": {
  "kernelspec": {
   "display_name": "Python 3",
   "language": "python",
   "name": "python3"
  },
  "language_info": {
   "codemirror_mode": {
    "name": "ipython",
    "version": 3
   },
   "file_extension": ".py",
   "mimetype": "text/x-python",
   "name": "python",
   "nbconvert_exporter": "python",
   "pygments_lexer": "ipython3",
   "version": "3.9.5"
  }
 },
 "nbformat": 4,
 "nbformat_minor": 5
}
